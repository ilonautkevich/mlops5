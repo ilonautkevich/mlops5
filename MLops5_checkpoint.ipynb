{
  "cells": [
    {
      "cell_type": "code",
      "execution_count": 1,
      "id": "3b7792bc-23e0-482a-8943-25e2b260bf3f",
      "metadata": {
        "colab": {
          "base_uri": "https://localhost:8080/"
        },
        "id": "3b7792bc-23e0-482a-8943-25e2b260bf3f",
        "outputId": "57c66085-200c-4a60-e271-1e66ec7817c1"
      },
      "outputs": [
        {
          "output_type": "stream",
          "name": "stdout",
          "text": [
            "Collecting ipytest\n",
            "  Downloading ipytest-0.14.2-py3-none-any.whl (18 kB)\n",
            "Requirement already satisfied: ipython in /usr/local/lib/python3.10/dist-packages (from ipytest) (7.34.0)\n",
            "Requirement already satisfied: packaging in /usr/local/lib/python3.10/dist-packages (from ipytest) (24.0)\n",
            "Requirement already satisfied: pytest>=5.4 in /usr/local/lib/python3.10/dist-packages (from ipytest) (7.4.4)\n",
            "Requirement already satisfied: iniconfig in /usr/local/lib/python3.10/dist-packages (from pytest>=5.4->ipytest) (2.0.0)\n",
            "Requirement already satisfied: pluggy<2.0,>=0.12 in /usr/local/lib/python3.10/dist-packages (from pytest>=5.4->ipytest) (1.5.0)\n",
            "Requirement already satisfied: exceptiongroup>=1.0.0rc8 in /usr/local/lib/python3.10/dist-packages (from pytest>=5.4->ipytest) (1.2.1)\n",
            "Requirement already satisfied: tomli>=1.0.0 in /usr/local/lib/python3.10/dist-packages (from pytest>=5.4->ipytest) (2.0.1)\n",
            "Requirement already satisfied: setuptools>=18.5 in /usr/local/lib/python3.10/dist-packages (from ipython->ipytest) (67.7.2)\n",
            "Collecting jedi>=0.16 (from ipython->ipytest)\n",
            "  Downloading jedi-0.19.1-py2.py3-none-any.whl (1.6 MB)\n",
            "\u001b[2K     \u001b[90m━━━━━━━━━━━━━━━━━━━━━━━━━━━━━━━━━━━━━━━━\u001b[0m \u001b[32m1.6/1.6 MB\u001b[0m \u001b[31m15.7 MB/s\u001b[0m eta \u001b[36m0:00:00\u001b[0m\n",
            "\u001b[?25hRequirement already satisfied: decorator in /usr/local/lib/python3.10/dist-packages (from ipython->ipytest) (4.4.2)\n",
            "Requirement already satisfied: pickleshare in /usr/local/lib/python3.10/dist-packages (from ipython->ipytest) (0.7.5)\n",
            "Requirement already satisfied: traitlets>=4.2 in /usr/local/lib/python3.10/dist-packages (from ipython->ipytest) (5.7.1)\n",
            "Requirement already satisfied: prompt-toolkit!=3.0.0,!=3.0.1,<3.1.0,>=2.0.0 in /usr/local/lib/python3.10/dist-packages (from ipython->ipytest) (3.0.43)\n",
            "Requirement already satisfied: pygments in /usr/local/lib/python3.10/dist-packages (from ipython->ipytest) (2.16.1)\n",
            "Requirement already satisfied: backcall in /usr/local/lib/python3.10/dist-packages (from ipython->ipytest) (0.2.0)\n",
            "Requirement already satisfied: matplotlib-inline in /usr/local/lib/python3.10/dist-packages (from ipython->ipytest) (0.1.7)\n",
            "Requirement already satisfied: pexpect>4.3 in /usr/local/lib/python3.10/dist-packages (from ipython->ipytest) (4.9.0)\n",
            "Requirement already satisfied: parso<0.9.0,>=0.8.3 in /usr/local/lib/python3.10/dist-packages (from jedi>=0.16->ipython->ipytest) (0.8.4)\n",
            "Requirement already satisfied: ptyprocess>=0.5 in /usr/local/lib/python3.10/dist-packages (from pexpect>4.3->ipython->ipytest) (0.7.0)\n",
            "Requirement already satisfied: wcwidth in /usr/local/lib/python3.10/dist-packages (from prompt-toolkit!=3.0.0,!=3.0.1,<3.1.0,>=2.0.0->ipython->ipytest) (0.2.13)\n",
            "Installing collected packages: jedi, ipytest\n",
            "Successfully installed ipytest-0.14.2 jedi-0.19.1\n"
          ]
        }
      ],
      "source": [
        "# установка pytest\n",
        "!pip install ipytest"
      ]
    },
    {
      "cell_type": "code",
      "execution_count": 2,
      "id": "56ef6c92-1e0c-4305-b8e0-4db65141ee5d",
      "metadata": {
        "id": "56ef6c92-1e0c-4305-b8e0-4db65141ee5d"
      },
      "outputs": [],
      "source": [
        "import numpy as np # для работы с числовыми данными\n",
        "import pandas as pd # pandas для работы с данными\n",
        "import os # Для работы с файловой системой\n",
        "from sklearn.linear_model import LinearRegression # LinearRegression из sklearn.linear_model для создания модели линейной регрессии\n",
        "from sklearn.utils import shuffle # Для перемешивания данны\n",
        "from sklearn.model_selection import train_test_split # для разбиения на тестовую и обучающую выборки\n",
        "from sklearn.metrics import mean_squared_error, mean_absolute_error, r2_score # Метрики\n",
        "import ipytest #импорт установленной ранее библиотеки"
      ]
    },
    {
      "cell_type": "code",
      "execution_count": 3,
      "id": "0efd5e15-7f8a-4a56-a03d-3b94be2595c4",
      "metadata": {
        "id": "0efd5e15-7f8a-4a56-a03d-3b94be2595c4"
      },
      "outputs": [],
      "source": [
        "# Генерация данных без аномалий и шумов\n",
        "def generate_normal_data(base, x):\n",
        "    # base - базовое значение, например значение t; x -  количество измерений\n",
        "    return np.array([int(base) + int(np.random.randint(25)) for i in np.random.rand(x)])"
      ]
    },
    {
      "cell_type": "code",
      "execution_count": 4,
      "id": "b30cbbdf-ccce-47b9-b524-0b1d81d909f6",
      "metadata": {
        "id": "b30cbbdf-ccce-47b9-b524-0b1d81d909f6"
      },
      "outputs": [],
      "source": [
        "# Генерация данных с шумами\n",
        "def generate_noise_data(base, x):\n",
        "    noise_data = generate_normal_data(base, x)\n",
        "    noise = np.random.randint(1, 100, len(noise_data))\n",
        "    noise_data = noise_data + noise\n",
        "    return noise_data"
      ]
    },
    {
      "cell_type": "code",
      "execution_count": 5,
      "id": "e81990cd-6a29-4551-a6b7-fb5139d8099b",
      "metadata": {
        "id": "e81990cd-6a29-4551-a6b7-fb5139d8099b"
      },
      "outputs": [],
      "source": [
        "# Генерация случайных признаков\n",
        "base = 20\n",
        "n = 100 # количество образцов(строк)\n",
        "data = {\n",
        "    'Feature_1': generate_normal_data(base, n),\n",
        "    'Target': generate_normal_data(base, n) + 5   # Целевая переменная\n",
        "}\n",
        "noise_data = {\n",
        "    'Feature_1': generate_noise_data(base, n),\n",
        "    'Target': generate_noise_data(base, n)\n",
        "}\n",
        "# Создание DataFrame\n",
        "df1 = pd.DataFrame(data)\n",
        "df2 = pd.DataFrame(data)\n",
        "df3 = pd.DataFrame(data)\n",
        "\n",
        "df_noise = pd.DataFrame(noise_data)\n"
      ]
    },
    {
      "cell_type": "code",
      "execution_count": 6,
      "id": "7ccf08a1-c8b8-482f-b38c-acefacc3685e",
      "metadata": {
        "id": "7ccf08a1-c8b8-482f-b38c-acefacc3685e",
        "outputId": "7d8a8404-ba58-4ed1-b994-64ebcf56d5d7",
        "colab": {
          "base_uri": "https://localhost:8080/",
          "height": 206
        }
      },
      "outputs": [
        {
          "output_type": "execute_result",
          "data": {
            "text/plain": [
              "   Feature_1  Target\n",
              "0         25      33\n",
              "1         29      35\n",
              "2         25      45\n",
              "3         37      46\n",
              "4         33      44"
            ],
            "text/html": [
              "\n",
              "  <div id=\"df-3978caee-d446-4676-98d1-1e0b40092266\" class=\"colab-df-container\">\n",
              "    <div>\n",
              "<style scoped>\n",
              "    .dataframe tbody tr th:only-of-type {\n",
              "        vertical-align: middle;\n",
              "    }\n",
              "\n",
              "    .dataframe tbody tr th {\n",
              "        vertical-align: top;\n",
              "    }\n",
              "\n",
              "    .dataframe thead th {\n",
              "        text-align: right;\n",
              "    }\n",
              "</style>\n",
              "<table border=\"1\" class=\"dataframe\">\n",
              "  <thead>\n",
              "    <tr style=\"text-align: right;\">\n",
              "      <th></th>\n",
              "      <th>Feature_1</th>\n",
              "      <th>Target</th>\n",
              "    </tr>\n",
              "  </thead>\n",
              "  <tbody>\n",
              "    <tr>\n",
              "      <th>0</th>\n",
              "      <td>25</td>\n",
              "      <td>33</td>\n",
              "    </tr>\n",
              "    <tr>\n",
              "      <th>1</th>\n",
              "      <td>29</td>\n",
              "      <td>35</td>\n",
              "    </tr>\n",
              "    <tr>\n",
              "      <th>2</th>\n",
              "      <td>25</td>\n",
              "      <td>45</td>\n",
              "    </tr>\n",
              "    <tr>\n",
              "      <th>3</th>\n",
              "      <td>37</td>\n",
              "      <td>46</td>\n",
              "    </tr>\n",
              "    <tr>\n",
              "      <th>4</th>\n",
              "      <td>33</td>\n",
              "      <td>44</td>\n",
              "    </tr>\n",
              "  </tbody>\n",
              "</table>\n",
              "</div>\n",
              "    <div class=\"colab-df-buttons\">\n",
              "\n",
              "  <div class=\"colab-df-container\">\n",
              "    <button class=\"colab-df-convert\" onclick=\"convertToInteractive('df-3978caee-d446-4676-98d1-1e0b40092266')\"\n",
              "            title=\"Convert this dataframe to an interactive table.\"\n",
              "            style=\"display:none;\">\n",
              "\n",
              "  <svg xmlns=\"http://www.w3.org/2000/svg\" height=\"24px\" viewBox=\"0 -960 960 960\">\n",
              "    <path d=\"M120-120v-720h720v720H120Zm60-500h600v-160H180v160Zm220 220h160v-160H400v160Zm0 220h160v-160H400v160ZM180-400h160v-160H180v160Zm440 0h160v-160H620v160ZM180-180h160v-160H180v160Zm440 0h160v-160H620v160Z\"/>\n",
              "  </svg>\n",
              "    </button>\n",
              "\n",
              "  <style>\n",
              "    .colab-df-container {\n",
              "      display:flex;\n",
              "      gap: 12px;\n",
              "    }\n",
              "\n",
              "    .colab-df-convert {\n",
              "      background-color: #E8F0FE;\n",
              "      border: none;\n",
              "      border-radius: 50%;\n",
              "      cursor: pointer;\n",
              "      display: none;\n",
              "      fill: #1967D2;\n",
              "      height: 32px;\n",
              "      padding: 0 0 0 0;\n",
              "      width: 32px;\n",
              "    }\n",
              "\n",
              "    .colab-df-convert:hover {\n",
              "      background-color: #E2EBFA;\n",
              "      box-shadow: 0px 1px 2px rgba(60, 64, 67, 0.3), 0px 1px 3px 1px rgba(60, 64, 67, 0.15);\n",
              "      fill: #174EA6;\n",
              "    }\n",
              "\n",
              "    .colab-df-buttons div {\n",
              "      margin-bottom: 4px;\n",
              "    }\n",
              "\n",
              "    [theme=dark] .colab-df-convert {\n",
              "      background-color: #3B4455;\n",
              "      fill: #D2E3FC;\n",
              "    }\n",
              "\n",
              "    [theme=dark] .colab-df-convert:hover {\n",
              "      background-color: #434B5C;\n",
              "      box-shadow: 0px 1px 3px 1px rgba(0, 0, 0, 0.15);\n",
              "      filter: drop-shadow(0px 1px 2px rgba(0, 0, 0, 0.3));\n",
              "      fill: #FFFFFF;\n",
              "    }\n",
              "  </style>\n",
              "\n",
              "    <script>\n",
              "      const buttonEl =\n",
              "        document.querySelector('#df-3978caee-d446-4676-98d1-1e0b40092266 button.colab-df-convert');\n",
              "      buttonEl.style.display =\n",
              "        google.colab.kernel.accessAllowed ? 'block' : 'none';\n",
              "\n",
              "      async function convertToInteractive(key) {\n",
              "        const element = document.querySelector('#df-3978caee-d446-4676-98d1-1e0b40092266');\n",
              "        const dataTable =\n",
              "          await google.colab.kernel.invokeFunction('convertToInteractive',\n",
              "                                                    [key], {});\n",
              "        if (!dataTable) return;\n",
              "\n",
              "        const docLinkHtml = 'Like what you see? Visit the ' +\n",
              "          '<a target=\"_blank\" href=https://colab.research.google.com/notebooks/data_table.ipynb>data table notebook</a>'\n",
              "          + ' to learn more about interactive tables.';\n",
              "        element.innerHTML = '';\n",
              "        dataTable['output_type'] = 'display_data';\n",
              "        await google.colab.output.renderOutput(dataTable, element);\n",
              "        const docLink = document.createElement('div');\n",
              "        docLink.innerHTML = docLinkHtml;\n",
              "        element.appendChild(docLink);\n",
              "      }\n",
              "    </script>\n",
              "  </div>\n",
              "\n",
              "\n",
              "<div id=\"df-d0242dbf-5e66-4770-972b-9cf82ee060ca\">\n",
              "  <button class=\"colab-df-quickchart\" onclick=\"quickchart('df-d0242dbf-5e66-4770-972b-9cf82ee060ca')\"\n",
              "            title=\"Suggest charts\"\n",
              "            style=\"display:none;\">\n",
              "\n",
              "<svg xmlns=\"http://www.w3.org/2000/svg\" height=\"24px\"viewBox=\"0 0 24 24\"\n",
              "     width=\"24px\">\n",
              "    <g>\n",
              "        <path d=\"M19 3H5c-1.1 0-2 .9-2 2v14c0 1.1.9 2 2 2h14c1.1 0 2-.9 2-2V5c0-1.1-.9-2-2-2zM9 17H7v-7h2v7zm4 0h-2V7h2v10zm4 0h-2v-4h2v4z\"/>\n",
              "    </g>\n",
              "</svg>\n",
              "  </button>\n",
              "\n",
              "<style>\n",
              "  .colab-df-quickchart {\n",
              "      --bg-color: #E8F0FE;\n",
              "      --fill-color: #1967D2;\n",
              "      --hover-bg-color: #E2EBFA;\n",
              "      --hover-fill-color: #174EA6;\n",
              "      --disabled-fill-color: #AAA;\n",
              "      --disabled-bg-color: #DDD;\n",
              "  }\n",
              "\n",
              "  [theme=dark] .colab-df-quickchart {\n",
              "      --bg-color: #3B4455;\n",
              "      --fill-color: #D2E3FC;\n",
              "      --hover-bg-color: #434B5C;\n",
              "      --hover-fill-color: #FFFFFF;\n",
              "      --disabled-bg-color: #3B4455;\n",
              "      --disabled-fill-color: #666;\n",
              "  }\n",
              "\n",
              "  .colab-df-quickchart {\n",
              "    background-color: var(--bg-color);\n",
              "    border: none;\n",
              "    border-radius: 50%;\n",
              "    cursor: pointer;\n",
              "    display: none;\n",
              "    fill: var(--fill-color);\n",
              "    height: 32px;\n",
              "    padding: 0;\n",
              "    width: 32px;\n",
              "  }\n",
              "\n",
              "  .colab-df-quickchart:hover {\n",
              "    background-color: var(--hover-bg-color);\n",
              "    box-shadow: 0 1px 2px rgba(60, 64, 67, 0.3), 0 1px 3px 1px rgba(60, 64, 67, 0.15);\n",
              "    fill: var(--button-hover-fill-color);\n",
              "  }\n",
              "\n",
              "  .colab-df-quickchart-complete:disabled,\n",
              "  .colab-df-quickchart-complete:disabled:hover {\n",
              "    background-color: var(--disabled-bg-color);\n",
              "    fill: var(--disabled-fill-color);\n",
              "    box-shadow: none;\n",
              "  }\n",
              "\n",
              "  .colab-df-spinner {\n",
              "    border: 2px solid var(--fill-color);\n",
              "    border-color: transparent;\n",
              "    border-bottom-color: var(--fill-color);\n",
              "    animation:\n",
              "      spin 1s steps(1) infinite;\n",
              "  }\n",
              "\n",
              "  @keyframes spin {\n",
              "    0% {\n",
              "      border-color: transparent;\n",
              "      border-bottom-color: var(--fill-color);\n",
              "      border-left-color: var(--fill-color);\n",
              "    }\n",
              "    20% {\n",
              "      border-color: transparent;\n",
              "      border-left-color: var(--fill-color);\n",
              "      border-top-color: var(--fill-color);\n",
              "    }\n",
              "    30% {\n",
              "      border-color: transparent;\n",
              "      border-left-color: var(--fill-color);\n",
              "      border-top-color: var(--fill-color);\n",
              "      border-right-color: var(--fill-color);\n",
              "    }\n",
              "    40% {\n",
              "      border-color: transparent;\n",
              "      border-right-color: var(--fill-color);\n",
              "      border-top-color: var(--fill-color);\n",
              "    }\n",
              "    60% {\n",
              "      border-color: transparent;\n",
              "      border-right-color: var(--fill-color);\n",
              "    }\n",
              "    80% {\n",
              "      border-color: transparent;\n",
              "      border-right-color: var(--fill-color);\n",
              "      border-bottom-color: var(--fill-color);\n",
              "    }\n",
              "    90% {\n",
              "      border-color: transparent;\n",
              "      border-bottom-color: var(--fill-color);\n",
              "    }\n",
              "  }\n",
              "</style>\n",
              "\n",
              "  <script>\n",
              "    async function quickchart(key) {\n",
              "      const quickchartButtonEl =\n",
              "        document.querySelector('#' + key + ' button');\n",
              "      quickchartButtonEl.disabled = true;  // To prevent multiple clicks.\n",
              "      quickchartButtonEl.classList.add('colab-df-spinner');\n",
              "      try {\n",
              "        const charts = await google.colab.kernel.invokeFunction(\n",
              "            'suggestCharts', [key], {});\n",
              "      } catch (error) {\n",
              "        console.error('Error during call to suggestCharts:', error);\n",
              "      }\n",
              "      quickchartButtonEl.classList.remove('colab-df-spinner');\n",
              "      quickchartButtonEl.classList.add('colab-df-quickchart-complete');\n",
              "    }\n",
              "    (() => {\n",
              "      let quickchartButtonEl =\n",
              "        document.querySelector('#df-d0242dbf-5e66-4770-972b-9cf82ee060ca button');\n",
              "      quickchartButtonEl.style.display =\n",
              "        google.colab.kernel.accessAllowed ? 'block' : 'none';\n",
              "    })();\n",
              "  </script>\n",
              "</div>\n",
              "    </div>\n",
              "  </div>\n"
            ],
            "application/vnd.google.colaboratory.intrinsic+json": {
              "type": "dataframe",
              "variable_name": "df1",
              "summary": "{\n  \"name\": \"df1\",\n  \"rows\": 100,\n  \"fields\": [\n    {\n      \"column\": \"Feature_1\",\n      \"properties\": {\n        \"dtype\": \"number\",\n        \"std\": 6,\n        \"min\": 20,\n        \"max\": 44,\n        \"num_unique_values\": 24,\n        \"samples\": [\n          27,\n          21,\n          25\n        ],\n        \"semantic_type\": \"\",\n        \"description\": \"\"\n      }\n    },\n    {\n      \"column\": \"Target\",\n      \"properties\": {\n        \"dtype\": \"number\",\n        \"std\": 7,\n        \"min\": 25,\n        \"max\": 49,\n        \"num_unique_values\": 24,\n        \"samples\": [\n          28,\n          47,\n          33\n        ],\n        \"semantic_type\": \"\",\n        \"description\": \"\"\n      }\n    }\n  ]\n}"
            }
          },
          "metadata": {},
          "execution_count": 6
        }
      ],
      "source": [
        "# Показать первые несколько строк одного из DataFrame с нормальными данными\n",
        "df1.head()"
      ]
    },
    {
      "cell_type": "code",
      "execution_count": 7,
      "id": "a1dac372-8209-4c3f-ac81-017537ca67f2",
      "metadata": {
        "id": "a1dac372-8209-4c3f-ac81-017537ca67f2",
        "outputId": "61817110-b0f1-4f54-dfe9-89f276370adc",
        "colab": {
          "base_uri": "https://localhost:8080/",
          "height": 206
        }
      },
      "outputs": [
        {
          "output_type": "execute_result",
          "data": {
            "text/plain": [
              "   Feature_1  Target\n",
              "0         68     120\n",
              "1         88      33\n",
              "2         50     108\n",
              "3         92     119\n",
              "4        108      29"
            ],
            "text/html": [
              "\n",
              "  <div id=\"df-8bd64545-51bb-47df-9059-78c13d7366ef\" class=\"colab-df-container\">\n",
              "    <div>\n",
              "<style scoped>\n",
              "    .dataframe tbody tr th:only-of-type {\n",
              "        vertical-align: middle;\n",
              "    }\n",
              "\n",
              "    .dataframe tbody tr th {\n",
              "        vertical-align: top;\n",
              "    }\n",
              "\n",
              "    .dataframe thead th {\n",
              "        text-align: right;\n",
              "    }\n",
              "</style>\n",
              "<table border=\"1\" class=\"dataframe\">\n",
              "  <thead>\n",
              "    <tr style=\"text-align: right;\">\n",
              "      <th></th>\n",
              "      <th>Feature_1</th>\n",
              "      <th>Target</th>\n",
              "    </tr>\n",
              "  </thead>\n",
              "  <tbody>\n",
              "    <tr>\n",
              "      <th>0</th>\n",
              "      <td>68</td>\n",
              "      <td>120</td>\n",
              "    </tr>\n",
              "    <tr>\n",
              "      <th>1</th>\n",
              "      <td>88</td>\n",
              "      <td>33</td>\n",
              "    </tr>\n",
              "    <tr>\n",
              "      <th>2</th>\n",
              "      <td>50</td>\n",
              "      <td>108</td>\n",
              "    </tr>\n",
              "    <tr>\n",
              "      <th>3</th>\n",
              "      <td>92</td>\n",
              "      <td>119</td>\n",
              "    </tr>\n",
              "    <tr>\n",
              "      <th>4</th>\n",
              "      <td>108</td>\n",
              "      <td>29</td>\n",
              "    </tr>\n",
              "  </tbody>\n",
              "</table>\n",
              "</div>\n",
              "    <div class=\"colab-df-buttons\">\n",
              "\n",
              "  <div class=\"colab-df-container\">\n",
              "    <button class=\"colab-df-convert\" onclick=\"convertToInteractive('df-8bd64545-51bb-47df-9059-78c13d7366ef')\"\n",
              "            title=\"Convert this dataframe to an interactive table.\"\n",
              "            style=\"display:none;\">\n",
              "\n",
              "  <svg xmlns=\"http://www.w3.org/2000/svg\" height=\"24px\" viewBox=\"0 -960 960 960\">\n",
              "    <path d=\"M120-120v-720h720v720H120Zm60-500h600v-160H180v160Zm220 220h160v-160H400v160Zm0 220h160v-160H400v160ZM180-400h160v-160H180v160Zm440 0h160v-160H620v160ZM180-180h160v-160H180v160Zm440 0h160v-160H620v160Z\"/>\n",
              "  </svg>\n",
              "    </button>\n",
              "\n",
              "  <style>\n",
              "    .colab-df-container {\n",
              "      display:flex;\n",
              "      gap: 12px;\n",
              "    }\n",
              "\n",
              "    .colab-df-convert {\n",
              "      background-color: #E8F0FE;\n",
              "      border: none;\n",
              "      border-radius: 50%;\n",
              "      cursor: pointer;\n",
              "      display: none;\n",
              "      fill: #1967D2;\n",
              "      height: 32px;\n",
              "      padding: 0 0 0 0;\n",
              "      width: 32px;\n",
              "    }\n",
              "\n",
              "    .colab-df-convert:hover {\n",
              "      background-color: #E2EBFA;\n",
              "      box-shadow: 0px 1px 2px rgba(60, 64, 67, 0.3), 0px 1px 3px 1px rgba(60, 64, 67, 0.15);\n",
              "      fill: #174EA6;\n",
              "    }\n",
              "\n",
              "    .colab-df-buttons div {\n",
              "      margin-bottom: 4px;\n",
              "    }\n",
              "\n",
              "    [theme=dark] .colab-df-convert {\n",
              "      background-color: #3B4455;\n",
              "      fill: #D2E3FC;\n",
              "    }\n",
              "\n",
              "    [theme=dark] .colab-df-convert:hover {\n",
              "      background-color: #434B5C;\n",
              "      box-shadow: 0px 1px 3px 1px rgba(0, 0, 0, 0.15);\n",
              "      filter: drop-shadow(0px 1px 2px rgba(0, 0, 0, 0.3));\n",
              "      fill: #FFFFFF;\n",
              "    }\n",
              "  </style>\n",
              "\n",
              "    <script>\n",
              "      const buttonEl =\n",
              "        document.querySelector('#df-8bd64545-51bb-47df-9059-78c13d7366ef button.colab-df-convert');\n",
              "      buttonEl.style.display =\n",
              "        google.colab.kernel.accessAllowed ? 'block' : 'none';\n",
              "\n",
              "      async function convertToInteractive(key) {\n",
              "        const element = document.querySelector('#df-8bd64545-51bb-47df-9059-78c13d7366ef');\n",
              "        const dataTable =\n",
              "          await google.colab.kernel.invokeFunction('convertToInteractive',\n",
              "                                                    [key], {});\n",
              "        if (!dataTable) return;\n",
              "\n",
              "        const docLinkHtml = 'Like what you see? Visit the ' +\n",
              "          '<a target=\"_blank\" href=https://colab.research.google.com/notebooks/data_table.ipynb>data table notebook</a>'\n",
              "          + ' to learn more about interactive tables.';\n",
              "        element.innerHTML = '';\n",
              "        dataTable['output_type'] = 'display_data';\n",
              "        await google.colab.output.renderOutput(dataTable, element);\n",
              "        const docLink = document.createElement('div');\n",
              "        docLink.innerHTML = docLinkHtml;\n",
              "        element.appendChild(docLink);\n",
              "      }\n",
              "    </script>\n",
              "  </div>\n",
              "\n",
              "\n",
              "<div id=\"df-102decde-9ceb-49b6-a4df-9966437e27f4\">\n",
              "  <button class=\"colab-df-quickchart\" onclick=\"quickchart('df-102decde-9ceb-49b6-a4df-9966437e27f4')\"\n",
              "            title=\"Suggest charts\"\n",
              "            style=\"display:none;\">\n",
              "\n",
              "<svg xmlns=\"http://www.w3.org/2000/svg\" height=\"24px\"viewBox=\"0 0 24 24\"\n",
              "     width=\"24px\">\n",
              "    <g>\n",
              "        <path d=\"M19 3H5c-1.1 0-2 .9-2 2v14c0 1.1.9 2 2 2h14c1.1 0 2-.9 2-2V5c0-1.1-.9-2-2-2zM9 17H7v-7h2v7zm4 0h-2V7h2v10zm4 0h-2v-4h2v4z\"/>\n",
              "    </g>\n",
              "</svg>\n",
              "  </button>\n",
              "\n",
              "<style>\n",
              "  .colab-df-quickchart {\n",
              "      --bg-color: #E8F0FE;\n",
              "      --fill-color: #1967D2;\n",
              "      --hover-bg-color: #E2EBFA;\n",
              "      --hover-fill-color: #174EA6;\n",
              "      --disabled-fill-color: #AAA;\n",
              "      --disabled-bg-color: #DDD;\n",
              "  }\n",
              "\n",
              "  [theme=dark] .colab-df-quickchart {\n",
              "      --bg-color: #3B4455;\n",
              "      --fill-color: #D2E3FC;\n",
              "      --hover-bg-color: #434B5C;\n",
              "      --hover-fill-color: #FFFFFF;\n",
              "      --disabled-bg-color: #3B4455;\n",
              "      --disabled-fill-color: #666;\n",
              "  }\n",
              "\n",
              "  .colab-df-quickchart {\n",
              "    background-color: var(--bg-color);\n",
              "    border: none;\n",
              "    border-radius: 50%;\n",
              "    cursor: pointer;\n",
              "    display: none;\n",
              "    fill: var(--fill-color);\n",
              "    height: 32px;\n",
              "    padding: 0;\n",
              "    width: 32px;\n",
              "  }\n",
              "\n",
              "  .colab-df-quickchart:hover {\n",
              "    background-color: var(--hover-bg-color);\n",
              "    box-shadow: 0 1px 2px rgba(60, 64, 67, 0.3), 0 1px 3px 1px rgba(60, 64, 67, 0.15);\n",
              "    fill: var(--button-hover-fill-color);\n",
              "  }\n",
              "\n",
              "  .colab-df-quickchart-complete:disabled,\n",
              "  .colab-df-quickchart-complete:disabled:hover {\n",
              "    background-color: var(--disabled-bg-color);\n",
              "    fill: var(--disabled-fill-color);\n",
              "    box-shadow: none;\n",
              "  }\n",
              "\n",
              "  .colab-df-spinner {\n",
              "    border: 2px solid var(--fill-color);\n",
              "    border-color: transparent;\n",
              "    border-bottom-color: var(--fill-color);\n",
              "    animation:\n",
              "      spin 1s steps(1) infinite;\n",
              "  }\n",
              "\n",
              "  @keyframes spin {\n",
              "    0% {\n",
              "      border-color: transparent;\n",
              "      border-bottom-color: var(--fill-color);\n",
              "      border-left-color: var(--fill-color);\n",
              "    }\n",
              "    20% {\n",
              "      border-color: transparent;\n",
              "      border-left-color: var(--fill-color);\n",
              "      border-top-color: var(--fill-color);\n",
              "    }\n",
              "    30% {\n",
              "      border-color: transparent;\n",
              "      border-left-color: var(--fill-color);\n",
              "      border-top-color: var(--fill-color);\n",
              "      border-right-color: var(--fill-color);\n",
              "    }\n",
              "    40% {\n",
              "      border-color: transparent;\n",
              "      border-right-color: var(--fill-color);\n",
              "      border-top-color: var(--fill-color);\n",
              "    }\n",
              "    60% {\n",
              "      border-color: transparent;\n",
              "      border-right-color: var(--fill-color);\n",
              "    }\n",
              "    80% {\n",
              "      border-color: transparent;\n",
              "      border-right-color: var(--fill-color);\n",
              "      border-bottom-color: var(--fill-color);\n",
              "    }\n",
              "    90% {\n",
              "      border-color: transparent;\n",
              "      border-bottom-color: var(--fill-color);\n",
              "    }\n",
              "  }\n",
              "</style>\n",
              "\n",
              "  <script>\n",
              "    async function quickchart(key) {\n",
              "      const quickchartButtonEl =\n",
              "        document.querySelector('#' + key + ' button');\n",
              "      quickchartButtonEl.disabled = true;  // To prevent multiple clicks.\n",
              "      quickchartButtonEl.classList.add('colab-df-spinner');\n",
              "      try {\n",
              "        const charts = await google.colab.kernel.invokeFunction(\n",
              "            'suggestCharts', [key], {});\n",
              "      } catch (error) {\n",
              "        console.error('Error during call to suggestCharts:', error);\n",
              "      }\n",
              "      quickchartButtonEl.classList.remove('colab-df-spinner');\n",
              "      quickchartButtonEl.classList.add('colab-df-quickchart-complete');\n",
              "    }\n",
              "    (() => {\n",
              "      let quickchartButtonEl =\n",
              "        document.querySelector('#df-102decde-9ceb-49b6-a4df-9966437e27f4 button');\n",
              "      quickchartButtonEl.style.display =\n",
              "        google.colab.kernel.accessAllowed ? 'block' : 'none';\n",
              "    })();\n",
              "  </script>\n",
              "</div>\n",
              "    </div>\n",
              "  </div>\n"
            ],
            "application/vnd.google.colaboratory.intrinsic+json": {
              "type": "dataframe",
              "variable_name": "df_noise",
              "summary": "{\n  \"name\": \"df_noise\",\n  \"rows\": 100,\n  \"fields\": [\n    {\n      \"column\": \"Feature_1\",\n      \"properties\": {\n        \"dtype\": \"number\",\n        \"std\": 27,\n        \"min\": 27,\n        \"max\": 139,\n        \"num_unique_values\": 66,\n        \"samples\": [\n          70,\n          116,\n          68\n        ],\n        \"semantic_type\": \"\",\n        \"description\": \"\"\n      }\n    },\n    {\n      \"column\": \"Target\",\n      \"properties\": {\n        \"dtype\": \"number\",\n        \"std\": 26,\n        \"min\": 25,\n        \"max\": 133,\n        \"num_unique_values\": 66,\n        \"samples\": [\n          95,\n          123,\n          120\n        ],\n        \"semantic_type\": \"\",\n        \"description\": \"\"\n      }\n    }\n  ]\n}"
            }
          },
          "metadata": {},
          "execution_count": 7
        }
      ],
      "source": [
        "df_noise.head() # посмотрим на первые 5 строк датасета с шумами"
      ]
    },
    {
      "cell_type": "code",
      "execution_count": 8,
      "id": "3188e9eb-d659-487b-a8a1-4c2370be8efa",
      "metadata": {
        "id": "3188e9eb-d659-487b-a8a1-4c2370be8efa"
      },
      "outputs": [],
      "source": [
        "# Разделение данных на обучающую и тестовую выборку\n",
        "X = df1.drop('Target', axis=1)\n",
        "y = df1['Target']\n",
        "X_train, X_test, y_train, y_test = train_test_split(X, y, test_size=0.2, random_state=58)\n"
      ]
    },
    {
      "cell_type": "code",
      "execution_count": 9,
      "id": "5a681b99-b5c7-4b7a-ba8c-a97721ad7266",
      "metadata": {
        "id": "5a681b99-b5c7-4b7a-ba8c-a97721ad7266",
        "outputId": "905da69f-934f-45c8-9438-e4b95a058b11",
        "colab": {
          "base_uri": "https://localhost:8080/",
          "height": 75
        }
      },
      "outputs": [
        {
          "output_type": "execute_result",
          "data": {
            "text/plain": [
              "LinearRegression()"
            ],
            "text/html": [
              "<style>#sk-container-id-1 {color: black;background-color: white;}#sk-container-id-1 pre{padding: 0;}#sk-container-id-1 div.sk-toggleable {background-color: white;}#sk-container-id-1 label.sk-toggleable__label {cursor: pointer;display: block;width: 100%;margin-bottom: 0;padding: 0.3em;box-sizing: border-box;text-align: center;}#sk-container-id-1 label.sk-toggleable__label-arrow:before {content: \"▸\";float: left;margin-right: 0.25em;color: #696969;}#sk-container-id-1 label.sk-toggleable__label-arrow:hover:before {color: black;}#sk-container-id-1 div.sk-estimator:hover label.sk-toggleable__label-arrow:before {color: black;}#sk-container-id-1 div.sk-toggleable__content {max-height: 0;max-width: 0;overflow: hidden;text-align: left;background-color: #f0f8ff;}#sk-container-id-1 div.sk-toggleable__content pre {margin: 0.2em;color: black;border-radius: 0.25em;background-color: #f0f8ff;}#sk-container-id-1 input.sk-toggleable__control:checked~div.sk-toggleable__content {max-height: 200px;max-width: 100%;overflow: auto;}#sk-container-id-1 input.sk-toggleable__control:checked~label.sk-toggleable__label-arrow:before {content: \"▾\";}#sk-container-id-1 div.sk-estimator input.sk-toggleable__control:checked~label.sk-toggleable__label {background-color: #d4ebff;}#sk-container-id-1 div.sk-label input.sk-toggleable__control:checked~label.sk-toggleable__label {background-color: #d4ebff;}#sk-container-id-1 input.sk-hidden--visually {border: 0;clip: rect(1px 1px 1px 1px);clip: rect(1px, 1px, 1px, 1px);height: 1px;margin: -1px;overflow: hidden;padding: 0;position: absolute;width: 1px;}#sk-container-id-1 div.sk-estimator {font-family: monospace;background-color: #f0f8ff;border: 1px dotted black;border-radius: 0.25em;box-sizing: border-box;margin-bottom: 0.5em;}#sk-container-id-1 div.sk-estimator:hover {background-color: #d4ebff;}#sk-container-id-1 div.sk-parallel-item::after {content: \"\";width: 100%;border-bottom: 1px solid gray;flex-grow: 1;}#sk-container-id-1 div.sk-label:hover label.sk-toggleable__label {background-color: #d4ebff;}#sk-container-id-1 div.sk-serial::before {content: \"\";position: absolute;border-left: 1px solid gray;box-sizing: border-box;top: 0;bottom: 0;left: 50%;z-index: 0;}#sk-container-id-1 div.sk-serial {display: flex;flex-direction: column;align-items: center;background-color: white;padding-right: 0.2em;padding-left: 0.2em;position: relative;}#sk-container-id-1 div.sk-item {position: relative;z-index: 1;}#sk-container-id-1 div.sk-parallel {display: flex;align-items: stretch;justify-content: center;background-color: white;position: relative;}#sk-container-id-1 div.sk-item::before, #sk-container-id-1 div.sk-parallel-item::before {content: \"\";position: absolute;border-left: 1px solid gray;box-sizing: border-box;top: 0;bottom: 0;left: 50%;z-index: -1;}#sk-container-id-1 div.sk-parallel-item {display: flex;flex-direction: column;z-index: 1;position: relative;background-color: white;}#sk-container-id-1 div.sk-parallel-item:first-child::after {align-self: flex-end;width: 50%;}#sk-container-id-1 div.sk-parallel-item:last-child::after {align-self: flex-start;width: 50%;}#sk-container-id-1 div.sk-parallel-item:only-child::after {width: 0;}#sk-container-id-1 div.sk-dashed-wrapped {border: 1px dashed gray;margin: 0 0.4em 0.5em 0.4em;box-sizing: border-box;padding-bottom: 0.4em;background-color: white;}#sk-container-id-1 div.sk-label label {font-family: monospace;font-weight: bold;display: inline-block;line-height: 1.2em;}#sk-container-id-1 div.sk-label-container {text-align: center;}#sk-container-id-1 div.sk-container {/* jupyter's `normalize.less` sets `[hidden] { display: none; }` but bootstrap.min.css set `[hidden] { display: none !important; }` so we also need the `!important` here to be able to override the default hidden behavior on the sphinx rendered scikit-learn.org. See: https://github.com/scikit-learn/scikit-learn/issues/21755 */display: inline-block !important;position: relative;}#sk-container-id-1 div.sk-text-repr-fallback {display: none;}</style><div id=\"sk-container-id-1\" class=\"sk-top-container\"><div class=\"sk-text-repr-fallback\"><pre>LinearRegression()</pre><b>In a Jupyter environment, please rerun this cell to show the HTML representation or trust the notebook. <br />On GitHub, the HTML representation is unable to render, please try loading this page with nbviewer.org.</b></div><div class=\"sk-container\" hidden><div class=\"sk-item\"><div class=\"sk-estimator sk-toggleable\"><input class=\"sk-toggleable__control sk-hidden--visually\" id=\"sk-estimator-id-1\" type=\"checkbox\" checked><label for=\"sk-estimator-id-1\" class=\"sk-toggleable__label sk-toggleable__label-arrow\">LinearRegression</label><div class=\"sk-toggleable__content\"><pre>LinearRegression()</pre></div></div></div></div></div>"
            ]
          },
          "metadata": {},
          "execution_count": 9
        }
      ],
      "source": [
        "# Обучение модели линейной регрессии (как и указано в задании на  одном из датасетов)\n",
        "model = LinearRegression()\n",
        "model.fit(X_train, y_train)"
      ]
    },
    {
      "cell_type": "code",
      "execution_count": 10,
      "id": "41e961b5-bfa8-44e1-934c-c665ffc8f418",
      "metadata": {
        "id": "41e961b5-bfa8-44e1-934c-c665ffc8f418",
        "outputId": "8be0844e-dc69-4b1d-c71b-cdd44f36be15",
        "colab": {
          "base_uri": "https://localhost:8080/"
        }
      },
      "outputs": [
        {
          "output_type": "execute_result",
          "data": {
            "text/plain": [
              "array([37.26856303, 36.89437816, 38.14166106, 38.01693277, 38.51584593,\n",
              "       37.89220448, 37.6427479 , 37.6427479 , 38.89003081, 38.14166106,\n",
              "       38.51584593, 37.76747619, 37.39329132, 38.64057423, 36.64492158,\n",
              "       37.6427479 , 39.38894397, 38.89003081, 39.38894397, 37.76747619])"
            ]
          },
          "metadata": {},
          "execution_count": 10
        }
      ],
      "source": [
        "# Оценка модели на тестовой выборке\n",
        "prediction = model.predict(X_test)\n",
        "\n",
        "prediction\n"
      ]
    },
    {
      "cell_type": "code",
      "execution_count": 11,
      "id": "6a5f3390-02ed-4a90-adbc-acb4b505a710",
      "metadata": {
        "id": "6a5f3390-02ed-4a90-adbc-acb4b505a710",
        "outputId": "09eb85aa-1ba7-4de6-82f9-41c21fb0da9e",
        "colab": {
          "base_uri": "https://localhost:8080/"
        }
      },
      "outputs": [
        {
          "output_type": "stream",
          "name": "stdout",
          "text": [
            "73.38410393928616 8.135942577446949 0.010195522804341106 8.566452237611914\n"
          ]
        }
      ],
      "source": [
        "# Расчет метрик\n",
        "mse = mean_squared_error(y_test, prediction) # Среднеквадратичная ошибка, показывает, насколько хорошо предсказаны значения, но не учитывает размер ошибки\n",
        "mae = mean_absolute_error(y_test, prediction) # Средняя абсолютная ошибка (более чувствительна к выбросам)\n",
        "r2 = r2_score(y_test, prediction) # коэффициент детерминации показывает, какая доля дисперсии зависимой переменной объясняется моделью\n",
        "rmse = np.sqrt(mse) # кв корень из MSE, более интерпретируемый, поскольку он выражается в тех же единицах, что и таргет\n",
        "print(mse, mae, r2, rmse)"
      ]
    },
    {
      "cell_type": "code",
      "execution_count": 12,
      "id": "7ace7936-4afd-42b1-a6cb-96c13ecbfe09",
      "metadata": {
        "id": "7ace7936-4afd-42b1-a6cb-96c13ecbfe09",
        "outputId": "228f706b-b29f-41d9-8308-ee4e5bb874d4",
        "colab": {
          "base_uri": "https://localhost:8080/"
        }
      },
      "outputs": [
        {
          "output_type": "execute_result",
          "data": {
            "text/plain": [
              "array([39.51367226, 37.39329132, 36.76964987, 38.39111764, 39.38894397,\n",
              "       38.14166106, 36.64492158, 37.76747619, 38.64057423, 37.6427479 ,\n",
              "       39.13948739, 38.76530252, 38.01693277, 37.26856303, 37.26856303,\n",
              "       38.51584593, 38.89003081, 37.39329132, 39.26421568, 39.38894397])"
            ]
          },
          "metadata": {},
          "execution_count": 12
        }
      ],
      "source": [
        "# Разделение второго на обучающую и тестовую выборку\n",
        "X2 = df2.drop('Target', axis=1)\n",
        "y2 = df2['Target']\n",
        "X2_train, X2_test, y2_train, y2_test = train_test_split(X2, y2, test_size=0.2, random_state=65)\n",
        "\n",
        "# Оценка модели на тестовой выборке\n",
        "predict2 = model.predict(X2_test)\n",
        "\n",
        "predict2\n"
      ]
    },
    {
      "cell_type": "code",
      "execution_count": 13,
      "id": "e21b8a99-573f-46fe-9139-e13127fa98d4",
      "metadata": {
        "id": "e21b8a99-573f-46fe-9139-e13127fa98d4",
        "outputId": "764b1d72-5099-497a-9769-178654500dbd",
        "colab": {
          "base_uri": "https://localhost:8080/"
        }
      },
      "outputs": [
        {
          "output_type": "stream",
          "name": "stdout",
          "text": [
            "63.84333021029348 7.265757424116847 0.02599900514446063 8.566452237611914\n"
          ]
        }
      ],
      "source": [
        "# Расчет метрик для второго датасета\n",
        "mse2 = mean_squared_error(y2_test, predict2) # Среднеквадратичная ошибка, показывает, насколько хорошо предсказаны значения, но не учитывает размер ошибки\n",
        "mae2 = mean_absolute_error(y2_test, predict2) # Средняя абсолютная ошибка (более чувствительна к выбросам)\n",
        "r2_2 = r2_score(y2_test, predict2) # коэффициент детерминации показывает, какая доля дисперсии зависимой переменной объясняется моделью\n",
        "rmse2 = np.sqrt(mse) # кв корень из MSE, более интерпретируемый, поскольку он выражается в тех же единицах, что и таргет\n",
        "print(mse2, mae2, r2_2, rmse2)"
      ]
    },
    {
      "cell_type": "code",
      "execution_count": 14,
      "id": "2e2f3959-b3b6-4314-8c25-c059c938c4f3",
      "metadata": {
        "id": "2e2f3959-b3b6-4314-8c25-c059c938c4f3",
        "outputId": "3d5c0104-4e21-40bb-d736-dbd0aa30acbe",
        "colab": {
          "base_uri": "https://localhost:8080/"
        }
      },
      "outputs": [
        {
          "output_type": "execute_result",
          "data": {
            "text/plain": [
              "array([37.14383474, 36.52019329, 38.76530252, 38.64057423, 38.51584593,\n",
              "       38.26638935, 38.01693277, 37.76747619, 37.01910645, 39.38894397,\n",
              "       37.51801961, 37.39329132, 38.39111764, 38.51584593, 36.89437816,\n",
              "       38.64057423, 36.64492158, 36.76964987, 37.51801961, 38.39111764])"
            ]
          },
          "metadata": {},
          "execution_count": 14
        }
      ],
      "source": [
        "# Разделение третьего на обучающую и тестовую выборку\n",
        "X3 = df3.drop('Target', axis=1)\n",
        "y3 = df3['Target']\n",
        "X3_train, X3_test, y3_train, y3_test = train_test_split(X3, y3, test_size=0.2, random_state=53)\n",
        "\n",
        "# Оценка модели на тестовой выборке\n",
        "predict3 = model.predict(X3_test)\n",
        "\n",
        "predict3\n"
      ]
    },
    {
      "cell_type": "code",
      "execution_count": 15,
      "id": "1bf210f7-56c7-4216-9fa4-81ecaee99e7c",
      "metadata": {
        "id": "1bf210f7-56c7-4216-9fa4-81ecaee99e7c",
        "outputId": "5e42e9fc-67fe-4fc7-cc11-3d88c63e0b6d",
        "colab": {
          "base_uri": "https://localhost:8080/"
        }
      },
      "outputs": [
        {
          "output_type": "stream",
          "name": "stdout",
          "text": [
            "56.894551736128435 7.1350033621592885 0.04842696544357872 8.566452237611914\n"
          ]
        }
      ],
      "source": [
        "# Расчет метрик для второго датасета\n",
        "mse3 = mean_squared_error(y3_test, predict3) # Среднеквадратичная ошибка, показывает, насколько хорошо предсказаны значения, но не учитывает размер ошибки\n",
        "mae3 = mean_absolute_error(y3_test, predict3) # Средняя абсолютная ошибка (более чувствительна к выбросам)\n",
        "r2_3 = r2_score(y3_test, predict3) # коэффициент детерминации показывает, какая доля дисперсии зависимой переменной объясняется моделью\n",
        "rmse3 = np.sqrt(mse) # кв корень из MSE, более интерпретируемый, поскольку он выражается в тех же единицах, что и таргет\n",
        "print(mse3, mae3, r2_3, rmse3)"
      ]
    },
    {
      "cell_type": "code",
      "execution_count": 16,
      "id": "21914446-2d30-4954-a4be-4dffed240ba0",
      "metadata": {
        "id": "21914446-2d30-4954-a4be-4dffed240ba0",
        "outputId": "c83aa614-a3f8-4d44-bb3a-622b1af9036f",
        "colab": {
          "base_uri": "https://localhost:8080/"
        }
      },
      "outputs": [
        {
          "output_type": "execute_result",
          "data": {
            "text/plain": [
              "array([44.87698876, 46.87264141, 45.12644534, 43.0060644 , 41.38459662,\n",
              "       45.12644534, 45.50063021, 42.38242294, 46.74791312, 47.62101115,\n",
              "       39.38894397, 40.01258542, 47.74573944, 41.75878149, 49.49193551,\n",
              "       42.50715123, 45.50063021, 49.6166638 , 41.38459662, 47.49628286])"
            ]
          },
          "metadata": {},
          "execution_count": 16
        }
      ],
      "source": [
        "# Разделение датасета с шумами на тестовую и обучающую выборку\n",
        "X_N = df_noise.drop('Target', axis=1)\n",
        "y_N = df_noise['Target']\n",
        "Xn_train, Xn_test, yn_train, yn_test = train_test_split(X_N, y_N, test_size=0.2, random_state=67)\n",
        "\n",
        "# Оценка модели на тестовой выборке\n",
        "predictN = model.predict(Xn_test)\n",
        "\n",
        "predictN\n"
      ]
    },
    {
      "cell_type": "code",
      "execution_count": 17,
      "id": "87752c50-3e88-4028-b4be-d937ee07c3a2",
      "metadata": {
        "colab": {
          "base_uri": "https://localhost:8080/"
        },
        "id": "87752c50-3e88-4028-b4be-d937ee07c3a2",
        "outputId": "2027256d-37cd-49d5-e6b0-6da0ec25966c"
      },
      "outputs": [
        {
          "output_type": "stream",
          "name": "stdout",
          "text": [
            "1617.08216355401 35.53306472547579 -1.7513212111561685 8.566452237611914\n"
          ]
        }
      ],
      "source": [
        "# Расчет метрик для второго датасета\n",
        "mseN = mean_squared_error(yn_test, predictN) # Среднеквадратичная ошибка, показывает, насколько хорошо предсказаны значения, но не учитывает размер ошибки\n",
        "maeN = mean_absolute_error(yn_test, predictN) # Средняя абсолютная ошибка (более чувствительна к выбросам)\n",
        "r2_N = r2_score(yn_test, predictN) # коэффициент детерминации показывает, какая доля дисперсии зависимой переменной объясняется моделью\n",
        "rmseN = np.sqrt(mse) # кв корень из MSE, более интерпретируемый, поскольку он выражается в тех же единицах, что и таргет\n",
        "print(mseN, maeN, r2_N, rmseN)"
      ]
    },
    {
      "cell_type": "code",
      "execution_count": 18,
      "id": "fd444146-90c4-435b-a12f-228d7b9667c8",
      "metadata": {
        "id": "fd444146-90c4-435b-a12f-228d7b9667c8"
      },
      "outputs": [],
      "source": [
        "ipytest.autoconfig()"
      ]
    },
    {
      "cell_type": "code",
      "execution_count": 19,
      "id": "303114a1-b9aa-44a6-98c5-2ab9f134fdb7",
      "metadata": {
        "id": "303114a1-b9aa-44a6-98c5-2ab9f134fdb7"
      },
      "outputs": [],
      "source": [
        "# Тестирование функции generate_normal_data\n",
        "def test_generate_normal_data():\n",
        "    base = 20\n",
        "    x = 10\n",
        "    result = generate_normal_data(base, x)\n",
        "    assert isinstance(result, np.ndarray) #Функция должна возвращать массив NumPy\n",
        "    assert len(result) == x # Длина результата должна соответствовать количеству измерений\n"
      ]
    },
    {
      "cell_type": "code",
      "execution_count": 20,
      "id": "8d8a9c15-5e43-4779-9cbc-2cf7ef6b464e",
      "metadata": {
        "id": "8d8a9c15-5e43-4779-9cbc-2cf7ef6b464e"
      },
      "outputs": [],
      "source": [
        "# Тестирование функции generate_noise_data\n",
        "def test_generate_noise_data():\n",
        "    base = 20\n",
        "    x = 10\n",
        "    result = generate_noise_data(base, x)\n",
        "    assert isinstance(result, np.ndarray) # Функция должна возвращать массив NumPy\n",
        "    assert len(result) == x # Длина результата должна соответствовать количеству измерений"
      ]
    },
    {
      "cell_type": "code",
      "execution_count": 21,
      "id": "0f236df6-660c-49b2-b755-4ca7ffe1255d",
      "metadata": {
        "id": "0f236df6-660c-49b2-b755-4ca7ffe1255d"
      },
      "outputs": [],
      "source": [
        "# Тестирование обучения модели линейной регрессии\n",
        "def test_linear_regression_training():\n",
        "    # Предполагаем, что данные уже подготовлены и разделены на обучающую и тестовую выборки\n",
        "    model = LinearRegression()\n",
        "    model.fit(X_train, y_train)\n",
        "    assert model.coef_.size > 0 # Модель должна обучиться и иметь коэффициенты"
      ]
    },
    {
      "cell_type": "code",
      "execution_count": 22,
      "id": "c2fd6bd8-479d-4c98-b22c-fea46823943a",
      "metadata": {
        "id": "c2fd6bd8-479d-4c98-b22c-fea46823943a"
      },
      "outputs": [],
      "source": [
        "# Тестирование оценки модели на тестовой выборке\n",
        "def test_linear_regression_prediction():\n",
        "    prediction = model.predict(X_test)\n",
        "    assert isinstance(prediction, np.ndarray) # Предсказания должны быть массивом NumPy\"\n",
        "    assert len(prediction) == len(X_test) # Длина предсказаний должна соответствовать длине тестовой выборки"
      ]
    },
    {
      "cell_type": "code",
      "execution_count": 23,
      "id": "f9ec8e92-727f-42db-87b3-71614c519d36",
      "metadata": {
        "id": "f9ec8e92-727f-42db-87b3-71614c519d36"
      },
      "outputs": [],
      "source": [
        "# проверяем первый датасет\n",
        "def test_df1():\n",
        "    X = df1.drop('Target', axis=1)\n",
        "    y = df1['Target']\n",
        "    X_train, X_test, y_train, y_test = train_test_split(X, y, test_size=0.2, random_state=58)\n",
        "    prediction = model.predict(X_test)\n",
        "    mse = mean_squared_error(y_test, prediction)\n",
        "    assert mse < 100 # тест должен пройти"
      ]
    },
    {
      "cell_type": "code",
      "execution_count": 24,
      "id": "19bfdcc3-da81-4ede-9c00-03cf1cb7c01d",
      "metadata": {
        "id": "19bfdcc3-da81-4ede-9c00-03cf1cb7c01d"
      },
      "outputs": [],
      "source": [
        "# проверяем второй датасет\n",
        "def test_df2():\n",
        "    X2 = df2.drop('Target', axis=1)\n",
        "    y2 = df2['Target']\n",
        "    X2_train, X2_test, y2_train, y2_test = train_test_split(X2, y2, test_size=0.2, random_state=65)\n",
        "    predict2 = model.predict(X2_test)\n",
        "    mse2 = mean_squared_error(y2_test, predict2)\n",
        "    assert mse < 100 # тест должен пройти"
      ]
    },
    {
      "cell_type": "code",
      "execution_count": 25,
      "id": "088633a6-0d00-4cf7-bc31-a20fbba5d37c",
      "metadata": {
        "id": "088633a6-0d00-4cf7-bc31-a20fbba5d37c"
      },
      "outputs": [],
      "source": [
        "# проверяем третий датасет\n",
        "def test_df3():\n",
        "    X3 = df3.drop('Target', axis=1)\n",
        "    y3 = df3['Target']\n",
        "    X3_train, X3_test, y3_train, y3_test = train_test_split(X3, y3, test_size=0.2, random_state=53)\n",
        "    predict3 = model.predict(X3_test)\n",
        "    mse3 = mean_squared_error(y3_test, predict3)\n",
        "    assert mse < 100 # тест должен пройти"
      ]
    },
    {
      "cell_type": "code",
      "execution_count": 26,
      "id": "5c59b59d-4be3-45ba-976c-07df2491c21a",
      "metadata": {
        "id": "5c59b59d-4be3-45ba-976c-07df2491c21a"
      },
      "outputs": [],
      "source": [
        "def test_model_on_noisy_features():\n",
        "    X_N = df_noise.drop('Target', axis=1)\n",
        "    y_N = df_noise['Target']\n",
        "    Xn_train, Xn_test, yn_train, yn_test = train_test_split(X_N, y_N, test_size=0.2, random_state=67)\n",
        "    predictionN = model.predict(Xn_test)\n",
        "    mse = mean_squared_error(yn_test, predictN)\n",
        "    assert mse < 100 # тест  не должен пройти, так как среднеквадратичная ошибка слишком большая\n",
        "    #(слишком большое отколение от значений mse других датасетов)"
      ]
    },
    {
      "cell_type": "code",
      "execution_count": 30,
      "id": "74c09d7c-5e3d-4330-89ae-3dccac33ac96",
      "metadata": {
        "id": "74c09d7c-5e3d-4330-89ae-3dccac33ac96"
      },
      "outputs": [],
      "source": [
        "def test_model_on_noisy_features():\n",
        "    X_N = df_noise.drop('Target', axis=1)\n",
        "    y_N = df_noise['Target']\n",
        "    Xn_train, Xn_test, yn_train, yn_test = train_test_split(X_N, y_N, test_size=0.2, random_state=67)\n",
        "    predictionN = model.predict(Xn_test)\n",
        "    mse = mean_squared_error(yn_test, predictN)\n",
        "    assert mse < 100 # тест должен пройти"
      ]
    },
    {
      "cell_type": "code",
      "execution_count": 31,
      "id": "1b654bb8-dfb5-44b4-8a46-40dc8ede8696",
      "metadata": {
        "colab": {
          "base_uri": "https://localhost:8080/"
        },
        "id": "1b654bb8-dfb5-44b4-8a46-40dc8ede8696",
        "outputId": "be13a8fd-9f5b-48f4-8a69-06e91db7e8d5"
      },
      "outputs": [
        {
          "output_type": "stream",
          "name": "stdout",
          "text": [
            "\u001b[32m.\u001b[0m\u001b[32m.\u001b[0m\u001b[32m.\u001b[0m\u001b[32m.\u001b[0m\u001b[32m.\u001b[0m\u001b[32m.\u001b[0m\u001b[32m.\u001b[0m\u001b[31mF\u001b[0m\u001b[31m                                                                                     [100%]\u001b[0m\n",
            "============================================= FAILURES =============================================\n",
            "\u001b[31m\u001b[1m___________________________________ test_model_on_noisy_features ___________________________________\u001b[0m\n",
            "\n",
            "    \u001b[94mdef\u001b[39;49;00m \u001b[92mtest_model_on_noisy_features\u001b[39;49;00m():\u001b[90m\u001b[39;49;00m\n",
            "        X_N = df_noise.drop(\u001b[33m'\u001b[39;49;00m\u001b[33mTarget\u001b[39;49;00m\u001b[33m'\u001b[39;49;00m, axis=\u001b[94m1\u001b[39;49;00m)\u001b[90m\u001b[39;49;00m\n",
            "        y_N = df_noise[\u001b[33m'\u001b[39;49;00m\u001b[33mTarget\u001b[39;49;00m\u001b[33m'\u001b[39;49;00m]\u001b[90m\u001b[39;49;00m\n",
            "        Xn_train, Xn_test, yn_train, yn_test = train_test_split(X_N, y_N, test_size=\u001b[94m0.2\u001b[39;49;00m, random_state=\u001b[94m67\u001b[39;49;00m)\u001b[90m\u001b[39;49;00m\n",
            "        predictionN = model.predict(Xn_test)\u001b[90m\u001b[39;49;00m\n",
            "        mse = mean_squared_error(yn_test, predictN)\u001b[90m\u001b[39;49;00m\n",
            ">       \u001b[94massert\u001b[39;49;00m mse < \u001b[94m100\u001b[39;49;00m \u001b[90m# тест должен пройти\u001b[39;49;00m\u001b[90m\u001b[39;49;00m\n",
            "\u001b[1m\u001b[31mE       assert 1617.08216355401 < 100\u001b[0m\n",
            "\n",
            "\u001b[1m\u001b[31m<ipython-input-30-8eff9fa8f6a7>\u001b[0m:7: AssertionError\n",
            "\u001b[36m\u001b[1m===================================== short test summary info ======================================\u001b[0m\n",
            "\u001b[31mFAILED\u001b[0m t_43e8770f81c7487d8ac0cd2b8df669ba.py::\u001b[1mtest_model_on_noisy_features\u001b[0m - assert 1617.08216355401 < 100\n",
            "\u001b[31m\u001b[31m\u001b[1m1 failed\u001b[0m, \u001b[32m7 passed\u001b[0m\u001b[31m in 0.39s\u001b[0m\u001b[0m\n"
          ]
        },
        {
          "output_type": "execute_result",
          "data": {
            "text/plain": [
              "<ExitCode.TESTS_FAILED: 1>"
            ]
          },
          "metadata": {},
          "execution_count": 31
        }
      ],
      "source": [
        "ipytest.run()\n"
      ]
    },
    {
      "cell_type": "code",
      "execution_count": null,
      "id": "b8bcca4c-9879-4fcd-a6ef-bb18ef891270",
      "metadata": {
        "id": "b8bcca4c-9879-4fcd-a6ef-bb18ef891270"
      },
      "outputs": [],
      "source": []
    }
  ],
  "metadata": {
    "kernelspec": {
      "display_name": "Python 3 (ipykernel)",
      "language": "python",
      "name": "python3"
    },
    "language_info": {
      "codemirror_mode": {
        "name": "ipython",
        "version": 3
      },
      "file_extension": ".py",
      "mimetype": "text/x-python",
      "name": "python",
      "nbconvert_exporter": "python",
      "pygments_lexer": "ipython3",
      "version": "3.11.7"
    },
    "colab": {
      "provenance": []
    }
  },
  "nbformat": 4,
  "nbformat_minor": 5
}